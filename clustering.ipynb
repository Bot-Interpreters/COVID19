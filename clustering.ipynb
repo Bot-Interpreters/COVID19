{
 "cells": [
  {
   "cell_type": "markdown",
   "metadata": {},
   "source": [
    "## Clustering of Patients"
   ]
  },
  {
   "cell_type": "code",
   "execution_count": 12,
   "metadata": {},
   "outputs": [],
   "source": [
    "import json\n",
    "import pandas as pd \n",
    "import numpy as np \n",
    "import seaborn as sns\n",
    "import matplotlib.pyplot as plt\n",
    "import matplotlib.dates as mdates\n",
    "from matplotlib import rcParams\n",
    "from tqdm import tqdm\n",
    "from collections import Counter\n",
    "\n",
    "from sklearn.preprocessing import StandardScaler, LabelEncoder\n",
    "from sklearn.cluster import KMeans\n",
    "\n",
    "plt.style.use('seaborn')\n",
    "rcParams.update({'figure.autolayout': True})\n",
    "\n",
    "%matplotlib inline"
   ]
  },
  {
   "cell_type": "markdown",
   "metadata": {},
   "source": [
    "### Get Data"
   ]
  },
  {
   "cell_type": "code",
   "execution_count": 2,
   "metadata": {},
   "outputs": [
    {
     "output_type": "execute_result",
     "data": {
      "text/plain": "   Age Bracket         Gender Detected District Detected State Current Status  \\\n0         20.0              F          Thrissur         Kerala      Recovered   \n1         -1.0  Not Available         Alappuzha         Kerala      Recovered   \n2         -1.0  Not Available         Kasaragod         Kerala      Recovered   \n3         45.0              M        East Delhi          Delhi      Recovered   \n4         24.0              M         Hyderabad      Telangana      Recovered   \n\n  Nationality Type of transmission  Days Affected  \n0       India             Imported           15.0  \n1       India             Imported           12.0  \n2       India             Imported           11.0  \n3       India             Imported           13.0  \n4       India             Imported            0.0  ",
      "text/html": "<div>\n<style scoped>\n    .dataframe tbody tr th:only-of-type {\n        vertical-align: middle;\n    }\n\n    .dataframe tbody tr th {\n        vertical-align: top;\n    }\n\n    .dataframe thead th {\n        text-align: right;\n    }\n</style>\n<table border=\"1\" class=\"dataframe\">\n  <thead>\n    <tr style=\"text-align: right;\">\n      <th></th>\n      <th>Age Bracket</th>\n      <th>Gender</th>\n      <th>Detected District</th>\n      <th>Detected State</th>\n      <th>Current Status</th>\n      <th>Nationality</th>\n      <th>Type of transmission</th>\n      <th>Days Affected</th>\n    </tr>\n  </thead>\n  <tbody>\n    <tr>\n      <th>0</th>\n      <td>20.0</td>\n      <td>F</td>\n      <td>Thrissur</td>\n      <td>Kerala</td>\n      <td>Recovered</td>\n      <td>India</td>\n      <td>Imported</td>\n      <td>15.0</td>\n    </tr>\n    <tr>\n      <th>1</th>\n      <td>-1.0</td>\n      <td>Not Available</td>\n      <td>Alappuzha</td>\n      <td>Kerala</td>\n      <td>Recovered</td>\n      <td>India</td>\n      <td>Imported</td>\n      <td>12.0</td>\n    </tr>\n    <tr>\n      <th>2</th>\n      <td>-1.0</td>\n      <td>Not Available</td>\n      <td>Kasaragod</td>\n      <td>Kerala</td>\n      <td>Recovered</td>\n      <td>India</td>\n      <td>Imported</td>\n      <td>11.0</td>\n    </tr>\n    <tr>\n      <th>3</th>\n      <td>45.0</td>\n      <td>M</td>\n      <td>East Delhi</td>\n      <td>Delhi</td>\n      <td>Recovered</td>\n      <td>India</td>\n      <td>Imported</td>\n      <td>13.0</td>\n    </tr>\n    <tr>\n      <th>4</th>\n      <td>24.0</td>\n      <td>M</td>\n      <td>Hyderabad</td>\n      <td>Telangana</td>\n      <td>Recovered</td>\n      <td>India</td>\n      <td>Imported</td>\n      <td>0.0</td>\n    </tr>\n  </tbody>\n</table>\n</div>"
     },
     "metadata": {},
     "execution_count": 2
    }
   ],
   "source": [
    "df = pd.read_csv(\"Data\\\\raw_data.csv\")\n",
    "\n",
    "unwanted_columns = [\n",
    "    'Patient Number',\n",
    "    'State Patient Number',\n",
    "    'Estimated Onset Date',\n",
    "    'Detected City',\n",
    "    'State code',\n",
    "    'Notes',\n",
    "    'Contracted from which Patient (Suspected)',\n",
    "    'Source_1',\n",
    "    'Source_2',\n",
    "    'Source_3',\n",
    "    'Backup Notes',\n",
    "]\n",
    "\n",
    "df.drop(unwanted_columns, axis=1, inplace=True)\n",
    "\n",
    "df['Date Announced'] = pd.to_datetime(df['Date Announced'], infer_datetime_format=True)\n",
    "df['Status Change Date'] = pd.to_datetime(df['Status Change Date'], infer_datetime_format=True)\n",
    "df['Age Bracket'] = pd.to_numeric(df['Age Bracket'], errors='coerce')\n",
    "\n",
    "df['Days Affected'] = df['Status Change Date'] - df['Date Announced']\n",
    "df['Days Affected'] = df['Days Affected'].map(lambda x: x.days)\n",
    "df.drop(['Status Change Date', 'Date Announced'], inplace=True, axis=1)\n",
    "df.replace('Imported ', 'Imported', inplace=True)\n",
    "\n",
    "nan_dict = {\n",
    "    'Age Bracket': -1,\n",
    "    'Gender': 'Not Available',\n",
    "    'Detected District': 'Not Available',\n",
    "    'Detected State': 'Not Available',\n",
    "    'Current Status': 'Not Available',\n",
    "    'Nationality': 'Not Available',\n",
    "    'Type of transmission': 'Not Available',\n",
    "    'Days Affected': -1\n",
    "}\n",
    "\n",
    "df.fillna(nan_dict, inplace=True)\n",
    "df.head()"
   ]
  },
  {
   "cell_type": "markdown",
   "metadata": {},
   "source": [
    "### Scale data"
   ]
  },
  {
   "cell_type": "code",
   "execution_count": 3,
   "metadata": {},
   "outputs": [
    {
     "output_type": "execute_result",
     "data": {
      "text/plain": "   Age Bracket         Gender Detected District Detected State Current Status  \\\n0     1.468770              F          Thrissur         Kerala      Recovered   \n1    -0.275400  Not Available         Alappuzha         Kerala      Recovered   \n2    -0.275400  Not Available         Kasaragod         Kerala      Recovered   \n3     3.545163              M        East Delhi          Delhi      Recovered   \n4     1.800993              M         Hyderabad      Telangana      Recovered   \n\n  Nationality Type of transmission  Days Affected  \n0       India             Imported      13.675621  \n1       India             Imported      10.927722  \n2       India             Imported      10.011755  \n3       India             Imported      11.843688  \n4       India             Imported      -0.063876  ",
      "text/html": "<div>\n<style scoped>\n    .dataframe tbody tr th:only-of-type {\n        vertical-align: middle;\n    }\n\n    .dataframe tbody tr th {\n        vertical-align: top;\n    }\n\n    .dataframe thead th {\n        text-align: right;\n    }\n</style>\n<table border=\"1\" class=\"dataframe\">\n  <thead>\n    <tr style=\"text-align: right;\">\n      <th></th>\n      <th>Age Bracket</th>\n      <th>Gender</th>\n      <th>Detected District</th>\n      <th>Detected State</th>\n      <th>Current Status</th>\n      <th>Nationality</th>\n      <th>Type of transmission</th>\n      <th>Days Affected</th>\n    </tr>\n  </thead>\n  <tbody>\n    <tr>\n      <th>0</th>\n      <td>1.468770</td>\n      <td>F</td>\n      <td>Thrissur</td>\n      <td>Kerala</td>\n      <td>Recovered</td>\n      <td>India</td>\n      <td>Imported</td>\n      <td>13.675621</td>\n    </tr>\n    <tr>\n      <th>1</th>\n      <td>-0.275400</td>\n      <td>Not Available</td>\n      <td>Alappuzha</td>\n      <td>Kerala</td>\n      <td>Recovered</td>\n      <td>India</td>\n      <td>Imported</td>\n      <td>10.927722</td>\n    </tr>\n    <tr>\n      <th>2</th>\n      <td>-0.275400</td>\n      <td>Not Available</td>\n      <td>Kasaragod</td>\n      <td>Kerala</td>\n      <td>Recovered</td>\n      <td>India</td>\n      <td>Imported</td>\n      <td>10.011755</td>\n    </tr>\n    <tr>\n      <th>3</th>\n      <td>3.545163</td>\n      <td>M</td>\n      <td>East Delhi</td>\n      <td>Delhi</td>\n      <td>Recovered</td>\n      <td>India</td>\n      <td>Imported</td>\n      <td>11.843688</td>\n    </tr>\n    <tr>\n      <th>4</th>\n      <td>1.800993</td>\n      <td>M</td>\n      <td>Hyderabad</td>\n      <td>Telangana</td>\n      <td>Recovered</td>\n      <td>India</td>\n      <td>Imported</td>\n      <td>-0.063876</td>\n    </tr>\n  </tbody>\n</table>\n</div>"
     },
     "metadata": {},
     "execution_count": 3
    }
   ],
   "source": [
    "scaler = StandardScaler()\n",
    "\n",
    "scale_cols = [\n",
    "    'Age Bracket',\n",
    "    'Days Affected',\n",
    "]\n",
    "\n",
    "df[scale_cols] = scaler.fit_transform(df[scale_cols])\n",
    "df.head()"
   ]
  },
  {
   "cell_type": "markdown",
   "metadata": {},
   "source": [
    "### Encode Data"
   ]
  },
  {
   "cell_type": "code",
   "execution_count": 4,
   "metadata": {},
   "outputs": [
    {
     "output_type": "execute_result",
     "data": {
      "text/plain": "   Age Bracket  Gender  Detected District  Detected State  Current Status  \\\n0     1.468770       0                410              15               3   \n1    -0.275400       2                  8              15               3   \n2    -0.275400       2                207              15               3   \n3     3.545163       1                110               7               3   \n4     1.800993       1                157              28               3   \n\n   Nationality  Type of transmission  Days Affected  \n0            1                     0      13.675621  \n1            1                     0      10.927722  \n2            1                     0      10.011755  \n3            1                     0      11.843688  \n4            1                     0      -0.063876  ",
      "text/html": "<div>\n<style scoped>\n    .dataframe tbody tr th:only-of-type {\n        vertical-align: middle;\n    }\n\n    .dataframe tbody tr th {\n        vertical-align: top;\n    }\n\n    .dataframe thead th {\n        text-align: right;\n    }\n</style>\n<table border=\"1\" class=\"dataframe\">\n  <thead>\n    <tr style=\"text-align: right;\">\n      <th></th>\n      <th>Age Bracket</th>\n      <th>Gender</th>\n      <th>Detected District</th>\n      <th>Detected State</th>\n      <th>Current Status</th>\n      <th>Nationality</th>\n      <th>Type of transmission</th>\n      <th>Days Affected</th>\n    </tr>\n  </thead>\n  <tbody>\n    <tr>\n      <th>0</th>\n      <td>1.468770</td>\n      <td>0</td>\n      <td>410</td>\n      <td>15</td>\n      <td>3</td>\n      <td>1</td>\n      <td>0</td>\n      <td>13.675621</td>\n    </tr>\n    <tr>\n      <th>1</th>\n      <td>-0.275400</td>\n      <td>2</td>\n      <td>8</td>\n      <td>15</td>\n      <td>3</td>\n      <td>1</td>\n      <td>0</td>\n      <td>10.927722</td>\n    </tr>\n    <tr>\n      <th>2</th>\n      <td>-0.275400</td>\n      <td>2</td>\n      <td>207</td>\n      <td>15</td>\n      <td>3</td>\n      <td>1</td>\n      <td>0</td>\n      <td>10.011755</td>\n    </tr>\n    <tr>\n      <th>3</th>\n      <td>3.545163</td>\n      <td>1</td>\n      <td>110</td>\n      <td>7</td>\n      <td>3</td>\n      <td>1</td>\n      <td>0</td>\n      <td>11.843688</td>\n    </tr>\n    <tr>\n      <th>4</th>\n      <td>1.800993</td>\n      <td>1</td>\n      <td>157</td>\n      <td>28</td>\n      <td>3</td>\n      <td>1</td>\n      <td>0</td>\n      <td>-0.063876</td>\n    </tr>\n  </tbody>\n</table>\n</div>"
     },
     "metadata": {},
     "execution_count": 4
    }
   ],
   "source": [
    "encode_cols = [\n",
    "    'Gender',\n",
    "    'Detected District',\n",
    "    'Detected State',\n",
    "    'Current Status',\n",
    "    'Nationality',\n",
    "    'Type of transmission',\n",
    "]\n",
    "\n",
    "le_dict = {col: LabelEncoder() for col in encode_cols}\n",
    "for col in encode_cols:\n",
    "    df[col] = le_dict[col].fit_transform(df[col])\n",
    "\n",
    "df.head()"
   ]
  },
  {
   "cell_type": "markdown",
   "metadata": {},
   "source": [
    "### Work with data"
   ]
  },
  {
   "cell_type": "code",
   "execution_count": 23,
   "metadata": {},
   "outputs": [
    {
     "output_type": "execute_result",
     "data": {
      "text/plain": "KMeans(algorithm='auto', copy_x=True, init='k-means++', max_iter=300,\n       n_clusters=2, n_init=10, n_jobs=-1, precompute_distances='auto',\n       random_state=None, tol=0.0001, verbose=0)"
     },
     "metadata": {},
     "execution_count": 23
    }
   ],
   "source": [
    "data = df.values\n",
    "\n",
    "kmeans = KMeans(n_clusters=2, n_jobs=-1)\n",
    "kmeans.fit(data)"
   ]
  },
  {
   "cell_type": "code",
   "execution_count": 24,
   "metadata": {},
   "outputs": [
    {
     "output_type": "display_data",
     "data": {
      "text/plain": "<Figure size 432x288 with 1 Axes>",
      "image/svg+xml": "<?xml version=\"1.0\" encoding=\"utf-8\" standalone=\"no\"?>\r\n<!DOCTYPE svg PUBLIC \"-//W3C//DTD SVG 1.1//EN\"\r\n  \"http://www.w3.org/Graphics/SVG/1.1/DTD/svg11.dtd\">\r\n<!-- Created with matplotlib (https://matplotlib.org/) -->\r\n<svg height=\"280.8pt\" version=\"1.1\" viewBox=\"0 0 424.8 280.8\" width=\"424.8pt\" xmlns=\"http://www.w3.org/2000/svg\" xmlns:xlink=\"http://www.w3.org/1999/xlink\">\r\n <defs>\r\n  <style type=\"text/css\">\r\n*{stroke-linecap:butt;stroke-linejoin:round;}\r\n  </style>\r\n </defs>\r\n <g id=\"figure_1\">\r\n  <g id=\"patch_1\">\r\n   <path d=\"M -0 280.8 \r\nL 424.8 280.8 \r\nL 424.8 0 \r\nL -0 0 \r\nz\r\n\" style=\"fill:none;\"/>\r\n  </g>\r\n  <g id=\"axes_1\">\r\n   <g id=\"patch_2\">\r\n    <path d=\"M 42.004688 257.454688 \r\nL 417.6 257.454688 \r\nL 417.6 7.2 \r\nL 42.004688 7.2 \r\nz\r\n\" style=\"fill:#eaeaf2;\"/>\r\n   </g>\r\n   <g id=\"matplotlib.axis_1\">\r\n    <g id=\"xtick_1\">\r\n     <g id=\"line2d_1\">\r\n      <path clip-path=\"url(#p102ca9bd88)\" d=\"M 134.955043 257.454688 \r\nL 134.955043 7.2 \r\n\" style=\"fill:none;stroke:#ffffff;stroke-linecap:round;\"/>\r\n     </g>\r\n     <g id=\"line2d_2\"/>\r\n     <g id=\"text_1\">\r\n      <!-- 1 -->\r\n      <defs>\r\n       <path d=\"M 37.25 0 \r\nL 28.46875 0 \r\nL 28.46875 56 \r\nQ 25.296875 52.984375 20.140625 49.953125 \r\nQ 14.984375 46.921875 10.890625 45.40625 \r\nL 10.890625 53.90625 \r\nQ 18.265625 57.375 23.78125 62.296875 \r\nQ 29.296875 67.234375 31.59375 71.875 \r\nL 37.25 71.875 \r\nz\r\n\" id=\"ArialMT-49\"/>\r\n      </defs>\r\n      <g style=\"fill:#262626;\" transform=\"translate(132.174574 271.6125)scale(0.1 -0.1)\">\r\n       <use xlink:href=\"#ArialMT-49\"/>\r\n      </g>\r\n     </g>\r\n    </g>\r\n    <g id=\"xtick_2\">\r\n     <g id=\"line2d_3\">\r\n      <path clip-path=\"url(#p102ca9bd88)\" d=\"M 324.649645 257.454688 \r\nL 324.649645 7.2 \r\n\" style=\"fill:none;stroke:#ffffff;stroke-linecap:round;\"/>\r\n     </g>\r\n     <g id=\"line2d_4\"/>\r\n     <g id=\"text_2\">\r\n      <!-- 0 -->\r\n      <defs>\r\n       <path d=\"M 4.15625 35.296875 \r\nQ 4.15625 48 6.765625 55.734375 \r\nQ 9.375 63.484375 14.515625 67.671875 \r\nQ 19.671875 71.875 27.484375 71.875 \r\nQ 33.25 71.875 37.59375 69.546875 \r\nQ 41.9375 67.234375 44.765625 62.859375 \r\nQ 47.609375 58.5 49.21875 52.21875 \r\nQ 50.828125 45.953125 50.828125 35.296875 \r\nQ 50.828125 22.703125 48.234375 14.96875 \r\nQ 45.65625 7.234375 40.5 3 \r\nQ 35.359375 -1.21875 27.484375 -1.21875 \r\nQ 17.140625 -1.21875 11.234375 6.203125 \r\nQ 4.15625 15.140625 4.15625 35.296875 \r\nz\r\nM 13.1875 35.296875 \r\nQ 13.1875 17.671875 17.3125 11.828125 \r\nQ 21.4375 6 27.484375 6 \r\nQ 33.546875 6 37.671875 11.859375 \r\nQ 41.796875 17.71875 41.796875 35.296875 \r\nQ 41.796875 52.984375 37.671875 58.78125 \r\nQ 33.546875 64.59375 27.390625 64.59375 \r\nQ 21.34375 64.59375 17.71875 59.46875 \r\nQ 13.1875 52.9375 13.1875 35.296875 \r\nz\r\n\" id=\"ArialMT-48\"/>\r\n      </defs>\r\n      <g style=\"fill:#262626;\" transform=\"translate(321.869176 271.6125)scale(0.1 -0.1)\">\r\n       <use xlink:href=\"#ArialMT-48\"/>\r\n      </g>\r\n     </g>\r\n    </g>\r\n   </g>\r\n   <g id=\"matplotlib.axis_2\">\r\n    <g id=\"ytick_1\">\r\n     <g id=\"line2d_5\">\r\n      <path clip-path=\"url(#p102ca9bd88)\" d=\"M 42.004688 257.454688 \r\nL 417.6 257.454688 \r\n\" style=\"fill:none;stroke:#ffffff;stroke-linecap:round;\"/>\r\n     </g>\r\n     <g id=\"line2d_6\"/>\r\n     <g id=\"text_3\">\r\n      <!-- 0 -->\r\n      <g style=\"fill:#262626;\" transform=\"translate(29.44375 261.033594)scale(0.1 -0.1)\">\r\n       <use xlink:href=\"#ArialMT-48\"/>\r\n      </g>\r\n     </g>\r\n    </g>\r\n    <g id=\"ytick_2\">\r\n     <g id=\"line2d_7\">\r\n      <path clip-path=\"url(#p102ca9bd88)\" d=\"M 42.004688 224.454882 \r\nL 417.6 224.454882 \r\n\" style=\"fill:none;stroke:#ffffff;stroke-linecap:round;\"/>\r\n     </g>\r\n     <g id=\"line2d_8\"/>\r\n     <g id=\"text_4\">\r\n      <!-- 2500 -->\r\n      <defs>\r\n       <path d=\"M 50.34375 8.453125 \r\nL 50.34375 0 \r\nL 3.03125 0 \r\nQ 2.9375 3.171875 4.046875 6.109375 \r\nQ 5.859375 10.9375 9.828125 15.625 \r\nQ 13.8125 20.3125 21.34375 26.46875 \r\nQ 33.015625 36.03125 37.109375 41.625 \r\nQ 41.21875 47.21875 41.21875 52.203125 \r\nQ 41.21875 57.421875 37.46875 61 \r\nQ 33.734375 64.59375 27.734375 64.59375 \r\nQ 21.390625 64.59375 17.578125 60.78125 \r\nQ 13.765625 56.984375 13.71875 50.25 \r\nL 4.6875 51.171875 \r\nQ 5.609375 61.28125 11.65625 66.578125 \r\nQ 17.71875 71.875 27.9375 71.875 \r\nQ 38.234375 71.875 44.234375 66.15625 \r\nQ 50.25 60.453125 50.25 52 \r\nQ 50.25 47.703125 48.484375 43.546875 \r\nQ 46.734375 39.40625 42.65625 34.8125 \r\nQ 38.578125 30.21875 29.109375 22.21875 \r\nQ 21.1875 15.578125 18.9375 13.203125 \r\nQ 16.703125 10.84375 15.234375 8.453125 \r\nz\r\n\" id=\"ArialMT-50\"/>\r\n       <path d=\"M 4.15625 18.75 \r\nL 13.375 19.53125 \r\nQ 14.40625 12.796875 18.140625 9.390625 \r\nQ 21.875 6 27.15625 6 \r\nQ 33.5 6 37.890625 10.78125 \r\nQ 42.28125 15.578125 42.28125 23.484375 \r\nQ 42.28125 31 38.0625 35.34375 \r\nQ 33.84375 39.703125 27 39.703125 \r\nQ 22.75 39.703125 19.328125 37.765625 \r\nQ 15.921875 35.84375 13.96875 32.765625 \r\nL 5.71875 33.84375 \r\nL 12.640625 70.609375 \r\nL 48.25 70.609375 \r\nL 48.25 62.203125 \r\nL 19.671875 62.203125 \r\nL 15.828125 42.96875 \r\nQ 22.265625 47.46875 29.34375 47.46875 \r\nQ 38.71875 47.46875 45.15625 40.96875 \r\nQ 51.609375 34.46875 51.609375 24.265625 \r\nQ 51.609375 14.546875 45.953125 7.46875 \r\nQ 39.0625 -1.21875 27.15625 -1.21875 \r\nQ 17.390625 -1.21875 11.203125 4.25 \r\nQ 5.03125 9.71875 4.15625 18.75 \r\nz\r\n\" id=\"ArialMT-53\"/>\r\n      </defs>\r\n      <g style=\"fill:#262626;\" transform=\"translate(12.760938 228.033788)scale(0.1 -0.1)\">\r\n       <use xlink:href=\"#ArialMT-50\"/>\r\n       <use x=\"55.615234\" xlink:href=\"#ArialMT-53\"/>\r\n       <use x=\"111.230469\" xlink:href=\"#ArialMT-48\"/>\r\n       <use x=\"166.845703\" xlink:href=\"#ArialMT-48\"/>\r\n      </g>\r\n     </g>\r\n    </g>\r\n    <g id=\"ytick_3\">\r\n     <g id=\"line2d_9\">\r\n      <path clip-path=\"url(#p102ca9bd88)\" d=\"M 42.004688 191.455076 \r\nL 417.6 191.455076 \r\n\" style=\"fill:none;stroke:#ffffff;stroke-linecap:round;\"/>\r\n     </g>\r\n     <g id=\"line2d_10\"/>\r\n     <g id=\"text_5\">\r\n      <!-- 5000 -->\r\n      <g style=\"fill:#262626;\" transform=\"translate(12.760938 195.033982)scale(0.1 -0.1)\">\r\n       <use xlink:href=\"#ArialMT-53\"/>\r\n       <use x=\"55.615234\" xlink:href=\"#ArialMT-48\"/>\r\n       <use x=\"111.230469\" xlink:href=\"#ArialMT-48\"/>\r\n       <use x=\"166.845703\" xlink:href=\"#ArialMT-48\"/>\r\n      </g>\r\n     </g>\r\n    </g>\r\n    <g id=\"ytick_4\">\r\n     <g id=\"line2d_11\">\r\n      <path clip-path=\"url(#p102ca9bd88)\" d=\"M 42.004688 158.45527 \r\nL 417.6 158.45527 \r\n\" style=\"fill:none;stroke:#ffffff;stroke-linecap:round;\"/>\r\n     </g>\r\n     <g id=\"line2d_12\"/>\r\n     <g id=\"text_6\">\r\n      <!-- 7500 -->\r\n      <defs>\r\n       <path d=\"M 4.734375 62.203125 \r\nL 4.734375 70.65625 \r\nL 51.078125 70.65625 \r\nL 51.078125 63.8125 \r\nQ 44.234375 56.546875 37.515625 44.484375 \r\nQ 30.8125 32.421875 27.15625 19.671875 \r\nQ 24.515625 10.6875 23.78125 0 \r\nL 14.75 0 \r\nQ 14.890625 8.453125 18.0625 20.40625 \r\nQ 21.234375 32.375 27.171875 43.484375 \r\nQ 33.109375 54.59375 39.796875 62.203125 \r\nz\r\n\" id=\"ArialMT-55\"/>\r\n      </defs>\r\n      <g style=\"fill:#262626;\" transform=\"translate(12.760938 162.034176)scale(0.1 -0.1)\">\r\n       <use xlink:href=\"#ArialMT-55\"/>\r\n       <use x=\"55.615234\" xlink:href=\"#ArialMT-53\"/>\r\n       <use x=\"111.230469\" xlink:href=\"#ArialMT-48\"/>\r\n       <use x=\"166.845703\" xlink:href=\"#ArialMT-48\"/>\r\n      </g>\r\n     </g>\r\n    </g>\r\n    <g id=\"ytick_5\">\r\n     <g id=\"line2d_13\">\r\n      <path clip-path=\"url(#p102ca9bd88)\" d=\"M 42.004688 125.455464 \r\nL 417.6 125.455464 \r\n\" style=\"fill:none;stroke:#ffffff;stroke-linecap:round;\"/>\r\n     </g>\r\n     <g id=\"line2d_14\"/>\r\n     <g id=\"text_7\">\r\n      <!-- 10000 -->\r\n      <g style=\"fill:#262626;\" transform=\"translate(7.2 129.03437)scale(0.1 -0.1)\">\r\n       <use xlink:href=\"#ArialMT-49\"/>\r\n       <use x=\"55.615234\" xlink:href=\"#ArialMT-48\"/>\r\n       <use x=\"111.230469\" xlink:href=\"#ArialMT-48\"/>\r\n       <use x=\"166.845703\" xlink:href=\"#ArialMT-48\"/>\r\n       <use x=\"222.460938\" xlink:href=\"#ArialMT-48\"/>\r\n      </g>\r\n     </g>\r\n    </g>\r\n    <g id=\"ytick_6\">\r\n     <g id=\"line2d_15\">\r\n      <path clip-path=\"url(#p102ca9bd88)\" d=\"M 42.004688 92.455658 \r\nL 417.6 92.455658 \r\n\" style=\"fill:none;stroke:#ffffff;stroke-linecap:round;\"/>\r\n     </g>\r\n     <g id=\"line2d_16\"/>\r\n     <g id=\"text_8\">\r\n      <!-- 12500 -->\r\n      <g style=\"fill:#262626;\" transform=\"translate(7.2 96.034565)scale(0.1 -0.1)\">\r\n       <use xlink:href=\"#ArialMT-49\"/>\r\n       <use x=\"55.615234\" xlink:href=\"#ArialMT-50\"/>\r\n       <use x=\"111.230469\" xlink:href=\"#ArialMT-53\"/>\r\n       <use x=\"166.845703\" xlink:href=\"#ArialMT-48\"/>\r\n       <use x=\"222.460938\" xlink:href=\"#ArialMT-48\"/>\r\n      </g>\r\n     </g>\r\n    </g>\r\n    <g id=\"ytick_7\">\r\n     <g id=\"line2d_17\">\r\n      <path clip-path=\"url(#p102ca9bd88)\" d=\"M 42.004688 59.455853 \r\nL 417.6 59.455853 \r\n\" style=\"fill:none;stroke:#ffffff;stroke-linecap:round;\"/>\r\n     </g>\r\n     <g id=\"line2d_18\"/>\r\n     <g id=\"text_9\">\r\n      <!-- 15000 -->\r\n      <g style=\"fill:#262626;\" transform=\"translate(7.2 63.034759)scale(0.1 -0.1)\">\r\n       <use xlink:href=\"#ArialMT-49\"/>\r\n       <use x=\"55.615234\" xlink:href=\"#ArialMT-53\"/>\r\n       <use x=\"111.230469\" xlink:href=\"#ArialMT-48\"/>\r\n       <use x=\"166.845703\" xlink:href=\"#ArialMT-48\"/>\r\n       <use x=\"222.460938\" xlink:href=\"#ArialMT-48\"/>\r\n      </g>\r\n     </g>\r\n    </g>\r\n    <g id=\"ytick_8\">\r\n     <g id=\"line2d_19\">\r\n      <path clip-path=\"url(#p102ca9bd88)\" d=\"M 42.004688 26.456047 \r\nL 417.6 26.456047 \r\n\" style=\"fill:none;stroke:#ffffff;stroke-linecap:round;\"/>\r\n     </g>\r\n     <g id=\"line2d_20\"/>\r\n     <g id=\"text_10\">\r\n      <!-- 17500 -->\r\n      <g style=\"fill:#262626;\" transform=\"translate(7.2 30.034953)scale(0.1 -0.1)\">\r\n       <use xlink:href=\"#ArialMT-49\"/>\r\n       <use x=\"55.615234\" xlink:href=\"#ArialMT-55\"/>\r\n       <use x=\"111.230469\" xlink:href=\"#ArialMT-53\"/>\r\n       <use x=\"166.845703\" xlink:href=\"#ArialMT-48\"/>\r\n       <use x=\"222.460938\" xlink:href=\"#ArialMT-48\"/>\r\n      </g>\r\n     </g>\r\n    </g>\r\n   </g>\r\n   <g id=\"patch_3\">\r\n    <path clip-path=\"url(#p102ca9bd88)\" d=\"M 248.771804 257.454688 \r\nL 400.527486 257.454688 \r\nL 400.527486 19.11689 \r\nL 248.771804 19.11689 \r\nz\r\n\" style=\"fill:#4c72b0;\"/>\r\n   </g>\r\n   <g id=\"patch_4\">\r\n    <path clip-path=\"url(#p102ca9bd88)\" d=\"M 59.077202 257.454688 \r\nL 210.832884 257.454688 \r\nL 210.832884 127.633451 \r\nL 59.077202 127.633451 \r\nz\r\n\" style=\"fill:#4c72b0;\"/>\r\n   </g>\r\n   <g id=\"patch_5\">\r\n    <path d=\"M 42.004688 257.454688 \r\nL 42.004688 7.2 \r\n\" style=\"fill:none;\"/>\r\n   </g>\r\n   <g id=\"patch_6\">\r\n    <path d=\"M 417.6 257.454688 \r\nL 417.6 7.2 \r\n\" style=\"fill:none;\"/>\r\n   </g>\r\n   <g id=\"patch_7\">\r\n    <path d=\"M 42.004687 257.454688 \r\nL 417.6 257.454688 \r\n\" style=\"fill:none;\"/>\r\n   </g>\r\n   <g id=\"patch_8\">\r\n    <path d=\"M 42.004687 7.2 \r\nL 417.6 7.2 \r\n\" style=\"fill:none;\"/>\r\n   </g>\r\n  </g>\r\n </g>\r\n <defs>\r\n  <clipPath id=\"p102ca9bd88\">\r\n   <rect height=\"250.254687\" width=\"375.595312\" x=\"42.004688\" y=\"7.2\"/>\r\n  </clipPath>\r\n </defs>\r\n</svg>\r\n",
      "image/png": "[encoded data removed]"
     },
     "metadata": {
      "needs_background": "light"
     }
    }
   ],
   "source": [
    "labels = kmeans.labels_\n",
    "counter = Counter(labels)\n",
    "\n",
    "plt.bar(counter.keys(), counter.values())\n",
    "plt.xticks(range(len(counter.keys())), counter.keys())\n",
    "plt.show()"
   ]
  },
  {
   "cell_type": "code",
   "execution_count": 38,
   "metadata": {},
   "outputs": [
    {
     "output_type": "stream",
     "name": "stdout",
     "text": "Label: 0\nNot Available\nAlappuzha\nKerala\nRecovered\nIndia\nImported\n"
    }
   ],
   "source": [
    "for i in range(len(labels)):\n",
    "    if labels[i] == 0:\n",
    "        print('Label: 0')\n",
    "        for col in encode_cols:\n",
    "            print(le_dict[col].inverse_transform(df[col])[i])\n",
    "        break\n"
   ]
  }
 ],
 "metadata": {
  "language_info": {
   "codemirror_mode": {
    "name": "ipython",
    "version": 3
   },
   "file_extension": ".py",
   "mimetype": "text/x-python",
   "name": "python",
   "nbconvert_exporter": "python",
   "pygments_lexer": "ipython3",
   "version": "3.7.6-final"
  },
  "orig_nbformat": 2,
  "kernelspec": {
   "name": "python37664bitcc33fecb0cd5463a9828fed86f5243b3",
   "display_name": "Python 3.7.6 64-bit"
  }
 },
 "nbformat": 4,
 "nbformat_minor": 2
}